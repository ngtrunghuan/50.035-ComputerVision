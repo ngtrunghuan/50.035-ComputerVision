{
 "cells": [
  {
   "cell_type": "markdown",
   "metadata": {},
   "source": [
    "# Dropout\n",
    "Previously, we have used $l2$-normalization on the network weight for regularizing neural networks. There is another technique to avoid overfitting in training a model.\n",
    "\n",
    "**Dropout** [1] is a technique for regularizing neural networks by randomly setting some features to zero during the forward pass. In this exercise you will implement a dropout layer and modify your fully-connected network to optionally use dropout.\n",
    "\n",
    "[1] Geoffrey E. Hinton et al, \"Improving neural networks by preventing co-adaptation of feature detectors\", arXiv 2012"
   ]
  },
  {
   "cell_type": "markdown",
   "metadata": {},
   "source": [
    "**Acknowledgement: This exercise is adapted from [Stanford CS231n](http://cs231n.stanford.edu/index.html).**"
   ]
  },
  {
   "cell_type": "code",
   "execution_count": 1,
   "metadata": {
    "collapsed": true
   },
   "outputs": [],
   "source": [
    "# As usual, a bit of setup\n",
    "\n",
    "import time\n",
    "import numpy as np\n",
    "import matplotlib.pyplot as plt\n",
    "from libs.classifiers.fc_net import *\n",
    "from libs.data_utils import get_CIFAR10_data\n",
    "from libs.gradient_check import eval_numerical_gradient, eval_numerical_gradient_array\n",
    "from libs.solver import Solver\n",
    "\n",
    "%matplotlib inline\n",
    "plt.rcParams['figure.figsize'] = (10.0, 8.0) # set default size of plots\n",
    "plt.rcParams['image.interpolation'] = 'nearest'\n",
    "plt.rcParams['image.cmap'] = 'gray'\n",
    "\n",
    "# for auto-reloading external modules\n",
    "# see http://stackoverflow.com/questions/1907993/autoreload-of-modules-in-ipython\n",
    "%load_ext autoreload\n",
    "%autoreload 2\n",
    "\n",
    "def rel_error(x, y):\n",
    "    \"\"\" returns relative error \"\"\"\n",
    "    return np.max(np.abs(x - y) / (np.maximum(1e-8, np.abs(x) + np.abs(y))))"
   ]
  },
  {
   "cell_type": "code",
   "execution_count": 2,
   "metadata": {},
   "outputs": [
    {
     "name": "stdout",
     "output_type": "stream",
     "text": [
      "('X_val: ', (1000, 3, 32, 32))\n",
      "('X_train: ', (49000, 3, 32, 32))\n",
      "('X_test: ', (1000, 3, 32, 32))\n",
      "('y_val: ', (1000,))\n",
      "('y_train: ', (49000,))\n",
      "('y_test: ', (1000,))\n"
     ]
    }
   ],
   "source": [
    "# Load the (preprocessed) CIFAR10 data.\n",
    "\n",
    "data = get_CIFAR10_data()\n",
    "for k, v in data.items():\n",
    "    print('%s: ' % k, v.shape)"
   ]
  },
  {
   "cell_type": "markdown",
   "metadata": {},
   "source": [
    "# Dropout forward pass\n",
    "In the file `libs/layers.py`, implement the forward pass for dropout. Since dropout behaves differently during training and testing, make sure to implement the operation for both modes.\n",
    "\n",
    "Once you have done so, run the cell below to test your implementation."
   ]
  },
  {
   "cell_type": "code",
   "execution_count": 3,
   "metadata": {},
   "outputs": [
    {
     "name": "stdout",
     "output_type": "stream",
     "text": [
      "('Running tests with p = ', 0.3)\n",
      "('Mean of input: ', 9.999821853492437)\n",
      "('Mean of train-time output: ', 2.9867200913652012)\n",
      "('Mean of test-time output: ', 2.999946556047731)\n",
      "('Fraction of train-time output set to zero: ', 0.70126)\n",
      "('Fraction of test-time output set to zero: ', 0.0)\n",
      "()\n",
      "('Running tests with p = ', 0.6)\n",
      "('Mean of input: ', 9.999821853492437)\n",
      "('Mean of train-time output: ', 5.995648549201088)\n",
      "('Mean of test-time output: ', 5.999893112095462)\n",
      "('Fraction of train-time output set to zero: ', 0.400484)\n",
      "('Fraction of test-time output set to zero: ', 0.0)\n",
      "()\n",
      "('Running tests with p = ', 0.75)\n",
      "('Mean of input: ', 9.999821853492437)\n",
      "('Mean of train-time output: ', 7.4953791423143175)\n",
      "('Mean of test-time output: ', 7.499866390119328)\n",
      "('Fraction of train-time output set to zero: ', 0.250592)\n",
      "('Fraction of test-time output set to zero: ', 0.0)\n",
      "()\n"
     ]
    }
   ],
   "source": [
    "x = np.random.randn(500, 500) + 10\n",
    "\n",
    "for p in [0.3, 0.6, 0.75]:\n",
    "    out, _ = dropout_forward(x, {'mode': 'train', 'p': p})\n",
    "    out_test, _ = dropout_forward(x, {'mode': 'test', 'p': p})\n",
    "\n",
    "    print('Running tests with p = ', p)\n",
    "    print('Mean of input: ', x.mean())\n",
    "    print('Mean of train-time output: ', out.mean())\n",
    "    print('Mean of test-time output: ', out_test.mean())\n",
    "    print('Fraction of train-time output set to zero: ', (out == 0).mean())\n",
    "    print('Fraction of test-time output set to zero: ', (out_test == 0).mean())\n",
    "    print()"
   ]
  },
  {
   "cell_type": "markdown",
   "metadata": {},
   "source": [
    "# Dropout backward pass\n",
    "In the file `libs/layers.py`, implement the backward pass for dropout. After doing so, run the following cell to numerically gradient-check your implementation."
   ]
  },
  {
   "cell_type": "code",
   "execution_count": 4,
   "metadata": {},
   "outputs": [
    {
     "name": "stdout",
     "output_type": "stream",
     "text": [
      "('dx relative error: ', 1.8928973378268946e-11)\n"
     ]
    }
   ],
   "source": [
    "x = np.random.randn(10, 10) + 10\n",
    "dout = np.random.randn(*x.shape)\n",
    "\n",
    "dropout_param = {'mode': 'train', 'p': 0.8, 'seed': 123}\n",
    "out, cache = dropout_forward(x, dropout_param)\n",
    "dx = dropout_backward(dout, cache)\n",
    "dx_num = eval_numerical_gradient_array(lambda xx: dropout_forward(xx, dropout_param)[0], x, dout)\n",
    "\n",
    "print('dx relative error: ', rel_error(dx, dx_num))"
   ]
  },
  {
   "cell_type": "markdown",
   "metadata": {},
   "source": [
    "# Fully-connected nets with Dropout\n",
    "In the file `libs/classifiers/fc_net.py`, modify your implementation to use dropout. Specificially, if the constructor the the net receives a nonzero value for the `dropout` parameter, then the net should add dropout immediately after every ReLU nonlinearity. After doing so, run the following to numerically gradient-check your implementation."
   ]
  },
  {
   "cell_type": "code",
   "execution_count": 5,
   "metadata": {},
   "outputs": [
    {
     "name": "stdout",
     "output_type": "stream",
     "text": [
      "('Running check with dropout = ', 0)\n",
      "('Initial loss: ', 2.3051948273987857)\n",
      "W1 relative error: 2.53e-07\n",
      "W2 relative error: 1.50e-05\n",
      "W3 relative error: 2.75e-07\n",
      "b1 relative error: 2.94e-06\n",
      "b2 relative error: 5.05e-08\n",
      "b3 relative error: 1.17e-10\n",
      "\n",
      "('Running check with dropout = ', 0.25)\n",
      "('Initial loss: ', 2.303185975909671)\n",
      "W1 relative error: 2.25e-07\n",
      "W2 relative error: 3.09e-09\n",
      "W3 relative error: 5.14e-07\n",
      "b1 relative error: 3.38e-08\n",
      "b2 relative error: 7.74e-10\n",
      "b3 relative error: 1.71e-10\n",
      "\n",
      "('Running check with dropout = ', 0.5)\n",
      "('Initial loss: ', 2.302538657049354)\n",
      "W1 relative error: 1.86e-07\n",
      "W2 relative error: 1.10e-07\n",
      "W3 relative error: 1.73e-06\n",
      "b1 relative error: 4.93e-08\n",
      "b2 relative error: 2.91e-09\n",
      "b3 relative error: 1.19e-10\n",
      "\n"
     ]
    }
   ],
   "source": [
    "N, D, H1, H2, C = 2, 15, 20, 30, 10\n",
    "X = np.random.randn(N, D)\n",
    "y = np.random.randint(C, size=(N,))\n",
    "\n",
    "for dropout in [0, 0.25, 0.5]:\n",
    "    print('Running check with dropout = ', dropout)\n",
    "    model = FullyConnectedNet([H1, H2], input_dim=D, num_classes=C,\n",
    "                            weight_scale=5e-2, dtype=np.float64,\n",
    "                            dropout=dropout, seed=123)\n",
    "\n",
    "    loss, grads = model.loss(X, y)\n",
    "    print('Initial loss: ', loss)\n",
    "\n",
    "    for name in sorted(grads):\n",
    "        f = lambda _: model.loss(X, y)[0]\n",
    "        grad_num = eval_numerical_gradient(f, model.params[name], verbose=False, h=1e-5)\n",
    "        print('%s relative error: %.2e' % (name, rel_error(grad_num, grads[name])))\n",
    "    print"
   ]
  },
  {
   "cell_type": "markdown",
   "metadata": {},
   "source": [
    "# Regularization experiment\n",
    "As an experiment, we will train a pair of two-layer networks on 500 training examples: one will use no dropout, and one will use a dropout probability of 0.75. We will then visualize the training and validation accuracies of the two networks over time."
   ]
  },
  {
   "cell_type": "code",
   "execution_count": 6,
   "metadata": {
    "scrolled": false
   },
   "outputs": [
    {
     "name": "stdout",
     "output_type": "stream",
     "text": [
      "0\n",
      "(Epoch 0 / 25) (Iteration 1 / 125) loss: 8.596245 train acc: 0.090000 val_acc: 0.100000\n",
      "(Epoch 2 / 25) (Iteration 11 / 125) loss: 4.380797 train acc: 0.236000 val_acc: 0.173000\n",
      "(Epoch 4 / 25) (Iteration 21 / 125) loss: 3.113095 train acc: 0.318000 val_acc: 0.206000\n",
      "(Epoch 6 / 25) (Iteration 31 / 125) loss: 2.451920 train acc: 0.392000 val_acc: 0.223000\n",
      "(Epoch 8 / 25) (Iteration 41 / 125) loss: 1.830762 train acc: 0.458000 val_acc: 0.227000\n",
      "(Epoch 10 / 25) (Iteration 51 / 125) loss: 1.836596 train acc: 0.494000 val_acc: 0.222000\n",
      "(Epoch 12 / 25) (Iteration 61 / 125) loss: 1.673842 train acc: 0.578000 val_acc: 0.233000\n",
      "(Epoch 14 / 25) (Iteration 71 / 125) loss: 1.414556 train acc: 0.646000 val_acc: 0.247000\n",
      "(Epoch 16 / 25) (Iteration 81 / 125) loss: 1.025554 train acc: 0.682000 val_acc: 0.253000\n",
      "(Epoch 18 / 25) (Iteration 91 / 125) loss: 0.701495 train acc: 0.732000 val_acc: 0.264000\n",
      "(Epoch 20 / 25) (Iteration 101 / 125) loss: 0.679101 train acc: 0.776000 val_acc: 0.258000\n",
      "(Epoch 22 / 25) (Iteration 111 / 125) loss: 0.829515 train acc: 0.812000 val_acc: 0.263000\n",
      "(Epoch 24 / 25) (Iteration 121 / 125) loss: 0.527989 train acc: 0.854000 val_acc: 0.279000\n",
      "('best_val_acc: ', 0.279)\n",
      "0.75\n",
      "(Epoch 0 / 25) (Iteration 1 / 125) loss: 7.685764 train acc: 0.106000 val_acc: 0.103000\n",
      "(Epoch 2 / 25) (Iteration 11 / 125) loss: 4.566555 train acc: 0.216000 val_acc: 0.140000\n",
      "(Epoch 4 / 25) (Iteration 21 / 125) loss: 4.102066 train acc: 0.294000 val_acc: 0.178000\n",
      "(Epoch 6 / 25) (Iteration 31 / 125) loss: 3.439889 train acc: 0.334000 val_acc: 0.208000\n",
      "(Epoch 8 / 25) (Iteration 41 / 125) loss: 3.010599 train acc: 0.360000 val_acc: 0.207000\n",
      "(Epoch 10 / 25) (Iteration 51 / 125) loss: 3.142819 train acc: 0.406000 val_acc: 0.214000\n",
      "(Epoch 12 / 25) (Iteration 61 / 125) loss: 2.830363 train acc: 0.462000 val_acc: 0.223000\n",
      "(Epoch 14 / 25) (Iteration 71 / 125) loss: 2.511844 train acc: 0.490000 val_acc: 0.221000\n",
      "(Epoch 16 / 25) (Iteration 81 / 125) loss: 2.281037 train acc: 0.528000 val_acc: 0.241000\n",
      "(Epoch 18 / 25) (Iteration 91 / 125) loss: 2.496054 train acc: 0.576000 val_acc: 0.250000\n",
      "(Epoch 20 / 25) (Iteration 101 / 125) loss: 1.760676 train acc: 0.608000 val_acc: 0.254000\n",
      "(Epoch 22 / 25) (Iteration 111 / 125) loss: 1.888493 train acc: 0.656000 val_acc: 0.248000\n",
      "(Epoch 24 / 25) (Iteration 121 / 125) loss: 1.481161 train acc: 0.680000 val_acc: 0.250000\n",
      "('best_val_acc: ', 0.268)\n"
     ]
    }
   ],
   "source": [
    "# Train two identical nets, one with dropout and one without\n",
    "\n",
    "num_train = 500\n",
    "small_data = {\n",
    "    'X_train': data['X_train'][:num_train],\n",
    "    'y_train': data['y_train'][:num_train],\n",
    "    'X_val': data['X_val'],\n",
    "    'y_val': data['y_val'],\n",
    "}\n",
    "\n",
    "solvers = {}\n",
    "dropout_choices = [0, 0.75]\n",
    "for dropout in dropout_choices:\n",
    "    model = FullyConnectedNet([500], dropout=dropout)\n",
    "    print(dropout)\n",
    "\n",
    "    solver = Solver(model, small_data,\n",
    "                  num_epochs=25, batch_size=100,\n",
    "                  update_rule='sgd',                     \n",
    "                  optim_config={\n",
    "                    'learning_rate': 1e-4,\n",
    "                  },\n",
    "                  verbose=True, print_every=10)\n",
    "    solver.train()\n",
    "    solvers[dropout] = solver\n",
    "    print('best_val_acc: ', solver.best_val_acc)"
   ]
  },
  {
   "cell_type": "code",
   "execution_count": 11,
   "metadata": {},
   "outputs": [
    {
     "data": {
      "image/png": "[encoded data removed]",
      "text/plain": [
       "<matplotlib.figure.Figure at 0xaa24be0>"
      ]
     },
     "metadata": {},
     "output_type": "display_data"
    }
   ],
   "source": [
    "# Plot train and validation accuracies of the two models\n",
    "\n",
    "train_accs = []\n",
    "val_accs = []\n",
    "for dropout in dropout_choices:\n",
    "    solver = solvers[dropout]\n",
    "    train_accs.append(solver.train_acc_history[-1])\n",
    "    val_accs.append(solver.val_acc_history[-1])\n",
    "\n",
    "plt.subplot(3, 1, 1)\n",
    "for dropout in dropout_choices:\n",
    "    plt.plot(solvers[dropout].train_acc_history, 'o', label='%.2f dropout' % dropout)\n",
    "plt.title('Train accuracy')\n",
    "plt.xlabel('Epoch')\n",
    "plt.ylabel('Accuracy')\n",
    "plt.legend(ncol=2, loc='lower right')\n",
    "  \n",
    "plt.subplot(3, 1, 2)\n",
    "for dropout in dropout_choices:\n",
    "    plt.plot(solvers[dropout].val_acc_history, 'o', label='%.2f dropout' % dropout)\n",
    "plt.title('Val accuracy')\n",
    "plt.xlabel('Epoch')\n",
    "plt.ylabel('Accuracy')\n",
    "plt.legend(ncol=2, loc='lower right')\n",
    "\n",
    "plt.gcf().set_size_inches(15, 15)\n",
    "plt.show()"
   ]
  },
  {
   "cell_type": "markdown",
   "metadata": {},
   "source": [
    "# Question\n",
    "Explain what you see in this experiment. What does it suggest about **dropout**?"
   ]
  },
  {
   "cell_type": "markdown",
   "metadata": {},
   "source": [
    "# Answer\n"
   ]
  }
 ],
 "metadata": {
  "kernelspec": {
   "display_name": "Python 3",
   "language": "python",
   "name": "python3"
  },
  "language_info": {
   "codemirror_mode": {
    "name": "ipython",
    "version": 2
   },
   "file_extension": ".py",
   "mimetype": "text/x-python",
   "name": "python",
   "nbconvert_exporter": "python",
   "pygments_lexer": "ipython2",
   "version": "2.7.12"
  }
 },
 "nbformat": 4,
 "nbformat_minor": 1
}
